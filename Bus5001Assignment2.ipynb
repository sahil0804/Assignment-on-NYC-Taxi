{
 "cells": [
  {
   "cell_type": "code",
   "execution_count": 0,
   "metadata": {
    "application/vnd.databricks.v1+cell": {
     "cellMetadata": {
      "byteLimit": 2048000,
      "rowLimit": 10000
     },
     "inputWidgets": {},
     "nuid": "2d635e89-2d7b-44d7-ba0e-910355580f4f",
     "showTitle": false,
     "title": ""
    }
   },
   "outputs": [
    {
     "output_type": "stream",
     "name": "stdout",
     "output_type": "stream",
     "text": [
      "Copied yellow_tripdata_2012-01.parquet to /dbfs/mnt/myfolder/yellow_tripdata_2012-01.parquet\nCopied yellow_tripdata_2012-02.parquet to /dbfs/mnt/myfolder/yellow_tripdata_2012-02.parquet\nCopied yellow_tripdata_2012-03.parquet to /dbfs/mnt/myfolder/yellow_tripdata_2012-03.parquet\nCopied yellow_tripdata_2012-04.parquet to /dbfs/mnt/myfolder/yellow_tripdata_2012-04.parquet\nCopied yellow_tripdata_2012-05.parquet to /dbfs/mnt/myfolder/yellow_tripdata_2012-05.parquet\nCopied yellow_tripdata_2012-06.parquet to /dbfs/mnt/myfolder/yellow_tripdata_2012-06.parquet\nCopied yellow_tripdata_2012-07.parquet to /dbfs/mnt/myfolder/yellow_tripdata_2012-07.parquet\nCopied yellow_tripdata_2012-08.parquet to /dbfs/mnt/myfolder/yellow_tripdata_2012-08.parquet\nCopied yellow_tripdata_2012-09.parquet to /dbfs/mnt/myfolder/yellow_tripdata_2012-09.parquet\nCopied yellow_tripdata_2012-10.parquet to /dbfs/mnt/myfolder/yellow_tripdata_2012-10.parquet\nCopied yellow_tripdata_2012-11.parquet to /dbfs/mnt/myfolder/yellow_tripdata_2012-11.parquet\nCopied yellow_tripdata_2012-12.parquet to /dbfs/mnt/myfolder/yellow_tripdata_2012-12.parquet\n"
     ]
    },
    {
     "output_type": "display_data",
     "data": {
      "text/html": [
       "<style scoped>\n",
       "  .table-result-container {\n",
       "    max-height: 300px;\n",
       "    overflow: auto;\n",
       "  }\n",
       "  table, th, td {\n",
       "    border: 1px solid black;\n",
       "    border-collapse: collapse;\n",
       "  }\n",
       "  th, td {\n",
       "    padding: 5px;\n",
       "  }\n",
       "  th {\n",
       "    text-align: left;\n",
       "  }\n",
       "</style><div class='table-result-container'><table class='table-result'><thead style='background-color: white'><tr><th>path</th><th>name</th><th>size</th><th>modificationTime</th></tr></thead><tbody><tr><td>dbfs:/dbfs/mnt/myfolder/yellow_tripdata_2012-01.parquet</td><td>yellow_tripdata_2012-01.parquet</td><td>166778702</td><td>1729249641000</td></tr><tr><td>dbfs:/dbfs/mnt/myfolder/yellow_tripdata_2012-02.parquet</td><td>yellow_tripdata_2012-02.parquet</td><td>170999814</td><td>1729249650000</td></tr><tr><td>dbfs:/dbfs/mnt/myfolder/yellow_tripdata_2012-03.parquet</td><td>yellow_tripdata_2012-03.parquet</td><td>204978557</td><td>1729249659000</td></tr><tr><td>dbfs:/dbfs/mnt/myfolder/yellow_tripdata_2012-04.parquet</td><td>yellow_tripdata_2012-04.parquet</td><td>174197742</td><td>1729249667000</td></tr><tr><td>dbfs:/dbfs/mnt/myfolder/yellow_tripdata_2012-05.parquet</td><td>yellow_tripdata_2012-05.parquet</td><td>181030635</td><td>1729249676000</td></tr><tr><td>dbfs:/dbfs/mnt/myfolder/yellow_tripdata_2012-06.parquet</td><td>yellow_tripdata_2012-06.parquet</td><td>193509508</td><td>1729249685000</td></tr><tr><td>dbfs:/dbfs/mnt/myfolder/yellow_tripdata_2012-07.parquet</td><td>yellow_tripdata_2012-07.parquet</td><td>183935553</td><td>1729249694000</td></tr><tr><td>dbfs:/dbfs/mnt/myfolder/yellow_tripdata_2012-08.parquet</td><td>yellow_tripdata_2012-08.parquet</td><td>184507061</td><td>1729249703000</td></tr><tr><td>dbfs:/dbfs/mnt/myfolder/yellow_tripdata_2012-09.parquet</td><td>yellow_tripdata_2012-09.parquet</td><td>187245283</td><td>1729249712000</td></tr><tr><td>dbfs:/dbfs/mnt/myfolder/yellow_tripdata_2012-10.parquet</td><td>yellow_tripdata_2012-10.parquet</td><td>181506517</td><td>1729249720000</td></tr><tr><td>dbfs:/dbfs/mnt/myfolder/yellow_tripdata_2012-11.parquet</td><td>yellow_tripdata_2012-11.parquet</td><td>172489795</td><td>1729249728000</td></tr><tr><td>dbfs:/dbfs/mnt/myfolder/yellow_tripdata_2012-12.parquet</td><td>yellow_tripdata_2012-12.parquet</td><td>182600871</td><td>1729249737000</td></tr></tbody></table></div>"
      ]
     },
     "metadata": {
      "application/vnd.databricks.v1+output": {
       "addedWidgets": {},
       "aggData": [],
       "aggError": "",
       "aggOverflow": false,
       "aggSchema": [],
       "aggSeriesLimitReached": false,
       "aggType": "",
       "arguments": {},
       "columnCustomDisplayInfos": {},
       "data": [
        [
         "dbfs:/dbfs/mnt/myfolder/yellow_tripdata_2012-01.parquet",
         "yellow_tripdata_2012-01.parquet",
         166778702,
         1729249641000
        ],
        [
         "dbfs:/dbfs/mnt/myfolder/yellow_tripdata_2012-02.parquet",
         "yellow_tripdata_2012-02.parquet",
         170999814,
         1729249650000
        ],
        [
         "dbfs:/dbfs/mnt/myfolder/yellow_tripdata_2012-03.parquet",
         "yellow_tripdata_2012-03.parquet",
         204978557,
         1729249659000
        ],
        [
         "dbfs:/dbfs/mnt/myfolder/yellow_tripdata_2012-04.parquet",
         "yellow_tripdata_2012-04.parquet",
         174197742,
         1729249667000
        ],
        [
         "dbfs:/dbfs/mnt/myfolder/yellow_tripdata_2012-05.parquet",
         "yellow_tripdata_2012-05.parquet",
         181030635,
         1729249676000
        ],
        [
         "dbfs:/dbfs/mnt/myfolder/yellow_tripdata_2012-06.parquet",
         "yellow_tripdata_2012-06.parquet",
         193509508,
         1729249685000
        ],
        [
         "dbfs:/dbfs/mnt/myfolder/yellow_tripdata_2012-07.parquet",
         "yellow_tripdata_2012-07.parquet",
         183935553,
         1729249694000
        ],
        [
         "dbfs:/dbfs/mnt/myfolder/yellow_tripdata_2012-08.parquet",
         "yellow_tripdata_2012-08.parquet",
         184507061,
         1729249703000
        ],
        [
         "dbfs:/dbfs/mnt/myfolder/yellow_tripdata_2012-09.parquet",
         "yellow_tripdata_2012-09.parquet",
         187245283,
         1729249712000
        ],
        [
         "dbfs:/dbfs/mnt/myfolder/yellow_tripdata_2012-10.parquet",
         "yellow_tripdata_2012-10.parquet",
         181506517,
         1729249720000
        ],
        [
         "dbfs:/dbfs/mnt/myfolder/yellow_tripdata_2012-11.parquet",
         "yellow_tripdata_2012-11.parquet",
         172489795,
         1729249728000
        ],
        [
         "dbfs:/dbfs/mnt/myfolder/yellow_tripdata_2012-12.parquet",
         "yellow_tripdata_2012-12.parquet",
         182600871,
         1729249737000
        ]
       ],
       "datasetInfos": [],
       "dbfsResultPath": null,
       "isJsonSchema": true,
       "metadata": {},
       "overflow": false,
       "plotOptions": {
        "customPlotOptions": {},
        "displayType": "table",
        "pivotAggregation": null,
        "pivotColumns": null,
        "xColumns": null,
        "yColumns": null
       },
       "removedWidgets": [],
       "schema": [
        {
         "metadata": "{}",
         "name": "path",
         "type": "\"string\""
        },
        {
         "metadata": "{}",
         "name": "name",
         "type": "\"string\""
        },
        {
         "metadata": "{}",
         "name": "size",
         "type": "\"long\""
        },
        {
         "metadata": "{}",
         "name": "modificationTime",
         "type": "\"long\""
        }
       ],
       "type": "table"
      }
     },
     "output_type": "display_data"
    },
    {
     "output_type": "display_data",
     "data": {
      "text/html": [
       "<style scoped>\n",
       "  .table-result-container {\n",
       "    max-height: 300px;\n",
       "    overflow: auto;\n",
       "  }\n",
       "  table, th, td {\n",
       "    border: 1px solid black;\n",
       "    border-collapse: collapse;\n",
       "  }\n",
       "  th, td {\n",
       "    padding: 5px;\n",
       "  }\n",
       "  th {\n",
       "    text-align: left;\n",
       "  }\n",
       "</style><div class='table-result-container'><table class='table-result'><thead style='background-color: white'><tr><th>VendorID</th><th>tpep_pickup_datetime</th><th>tpep_dropoff_datetime</th><th>passenger_count</th><th>trip_distance</th><th>RatecodeID</th><th>store_and_fwd_flag</th><th>PULocationID</th><th>DOLocationID</th><th>payment_type</th><th>fare_amount</th><th>extra</th><th>mta_tax</th><th>tip_amount</th><th>tolls_amount</th><th>improvement_surcharge</th><th>total_amount</th><th>congestion_surcharge</th><th>airport_fee</th></tr></thead><tbody><tr><td>1</td><td>2012-01-01T00:07:56</td><td>2012-01-01T00:12:09</td><td>1</td><td>0.9</td><td>1</td><td>N</td><td>158</td><td>231</td><td>2</td><td>4.9</td><td>0.5</td><td>0.5</td><td>0.0</td><td>0.0</td><td>0.0</td><td>5.9</td><td>null</td><td>null</td></tr><tr><td>1</td><td>2012-01-01T00:18:49</td><td>2012-01-01T00:30:01</td><td>1</td><td>2.3</td><td>1</td><td>N</td><td>231</td><td>164</td><td>2</td><td>8.5</td><td>0.5</td><td>0.5</td><td>0.0</td><td>0.0</td><td>0.0</td><td>9.5</td><td>null</td><td>null</td></tr><tr><td>1</td><td>2012-01-01T00:31:38</td><td>2012-01-01T00:46:05</td><td>1</td><td>2.2</td><td>1</td><td>N</td><td>164</td><td>148</td><td>2</td><td>9.3</td><td>0.5</td><td>0.5</td><td>0.0</td><td>0.0</td><td>0.0</td><td>10.3</td><td>null</td><td>null</td></tr><tr><td>1</td><td>2012-01-01T00:47:35</td><td>2012-01-01T00:55:57</td><td>4</td><td>0.9</td><td>1</td><td>N</td><td>148</td><td>107</td><td>2</td><td>5.3</td><td>0.5</td><td>0.5</td><td>0.0</td><td>0.0</td><td>0.0</td><td>6.3</td><td>null</td><td>null</td></tr><tr><td>1</td><td>2012-01-01T00:57:08</td><td>2012-01-01T01:02:42</td><td>3</td><td>0.7</td><td>1</td><td>N</td><td>107</td><td>107</td><td>2</td><td>4.5</td><td>0.5</td><td>0.5</td><td>0.0</td><td>0.0</td><td>0.0</td><td>5.5</td><td>null</td><td>null</td></tr><tr><td>1</td><td>2012-01-01T00:47:10</td><td>2012-01-01T01:06:18</td><td>1</td><td>4.7</td><td>1</td><td>N</td><td>226</td><td>239</td><td>1</td><td>14.9</td><td>0.5</td><td>0.5</td><td>2.0</td><td>0.0</td><td>0.0</td><td>17.9</td><td>null</td><td>null</td></tr><tr><td>1</td><td>2012-01-01T00:16:42</td><td>2012-01-01T00:40:14</td><td>1</td><td>2.3</td><td>1</td><td>N</td><td>234</td><td>237</td><td>2</td><td>12.9</td><td>0.5</td><td>0.5</td><td>0.0</td><td>0.0</td><td>0.0</td><td>13.9</td><td>null</td><td>null</td></tr><tr><td>1</td><td>2012-01-01T00:40:46</td><td>2012-01-01T01:03:49</td><td>1</td><td>2.2</td><td>1</td><td>N</td><td>237</td><td>68</td><td>1</td><td>12.9</td><td>0.5</td><td>0.5</td><td>2.0</td><td>0.0</td><td>0.0</td><td>15.9</td><td>null</td><td>null</td></tr><tr><td>1</td><td>2012-01-01T00:10:04</td><td>2012-01-01T00:20:54</td><td>1</td><td>2.4</td><td>1</td><td>N</td><td>161</td><td>263</td><td>1</td><td>8.9</td><td>0.5</td><td>0.5</td><td>2.97</td><td>0.0</td><td>0.0</td><td>12.87</td><td>null</td><td>null</td></tr><tr><td>1</td><td>2012-01-01T00:28:10</td><td>2012-01-01T00:32:50</td><td>1</td><td>1.4</td><td>1</td><td>N</td><td>237</td><td>236</td><td>1</td><td>5.3</td><td>0.5</td><td>0.5</td><td>1.89</td><td>0.0</td><td>0.0</td><td>8.19</td><td>null</td><td>null</td></tr></tbody></table></div>"
      ]
     },
     "metadata": {
      "application/vnd.databricks.v1+output": {
       "addedWidgets": {},
       "aggData": [],
       "aggError": "",
       "aggOverflow": false,
       "aggSchema": [],
       "aggSeriesLimitReached": false,
       "aggType": "",
       "arguments": {},
       "columnCustomDisplayInfos": {},
       "data": [
        [
         1,
         "2012-01-01T00:07:56",
         "2012-01-01T00:12:09",
         1,
         0.9,
         1,
         "N",
         158,
         231,
         2,
         4.9,
         0.5,
         0.5,
         0.0,
         0.0,
         0.0,
         5.9,
         null,
         null
        ],
        [
         1,
         "2012-01-01T00:18:49",
         "2012-01-01T00:30:01",
         1,
         2.3,
         1,
         "N",
         231,
         164,
         2,
         8.5,
         0.5,
         0.5,
         0.0,
         0.0,
         0.0,
         9.5,
         null,
         null
        ],
        [
         1,
         "2012-01-01T00:31:38",
         "2012-01-01T00:46:05",
         1,
         2.2,
         1,
         "N",
         164,
         148,
         2,
         9.3,
         0.5,
         0.5,
         0.0,
         0.0,
         0.0,
         10.3,
         null,
         null
        ],
        [
         1,
         "2012-01-01T00:47:35",
         "2012-01-01T00:55:57",
         4,
         0.9,
         1,
         "N",
         148,
         107,
         2,
         5.3,
         0.5,
         0.5,
         0.0,
         0.0,
         0.0,
         6.3,
         null,
         null
        ],
        [
         1,
         "2012-01-01T00:57:08",
         "2012-01-01T01:02:42",
         3,
         0.7,
         1,
         "N",
         107,
         107,
         2,
         4.5,
         0.5,
         0.5,
         0.0,
         0.0,
         0.0,
         5.5,
         null,
         null
        ],
        [
         1,
         "2012-01-01T00:47:10",
         "2012-01-01T01:06:18",
         1,
         4.7,
         1,
         "N",
         226,
         239,
         1,
         14.9,
         0.5,
         0.5,
         2.0,
         0.0,
         0.0,
         17.9,
         null,
         null
        ],
        [
         1,
         "2012-01-01T00:16:42",
         "2012-01-01T00:40:14",
         1,
         2.3,
         1,
         "N",
         234,
         237,
         2,
         12.9,
         0.5,
         0.5,
         0.0,
         0.0,
         0.0,
         13.9,
         null,
         null
        ],
        [
         1,
         "2012-01-01T00:40:46",
         "2012-01-01T01:03:49",
         1,
         2.2,
         1,
         "N",
         237,
         68,
         1,
         12.9,
         0.5,
         0.5,
         2.0,
         0.0,
         0.0,
         15.9,
         null,
         null
        ],
        [
         1,
         "2012-01-01T00:10:04",
         "2012-01-01T00:20:54",
         1,
         2.4,
         1,
         "N",
         161,
         263,
         1,
         8.9,
         0.5,
         0.5,
         2.97,
         0.0,
         0.0,
         12.87,
         null,
         null
        ],
        [
         1,
         "2012-01-01T00:28:10",
         "2012-01-01T00:32:50",
         1,
         1.4,
         1,
         "N",
         237,
         236,
         1,
         5.3,
         0.5,
         0.5,
         1.89,
         0.0,
         0.0,
         8.19,
         null,
         null
        ]
       ],
       "datasetInfos": [],
       "dbfsResultPath": null,
       "isJsonSchema": true,
       "metadata": {},
       "overflow": false,
       "plotOptions": {
        "customPlotOptions": {},
        "displayType": "table",
        "pivotAggregation": null,
        "pivotColumns": null,
        "xColumns": null,
        "yColumns": null
       },
       "removedWidgets": [],
       "schema": [
        {
         "metadata": "{}",
         "name": "VendorID",
         "type": "\"long\""
        },
        {
         "metadata": "{}",
         "name": "tpep_pickup_datetime",
         "type": "\"timestamp_ntz\""
        },
        {
         "metadata": "{}",
         "name": "tpep_dropoff_datetime",
         "type": "\"timestamp_ntz\""
        },
        {
         "metadata": "{}",
         "name": "passenger_count",
         "type": "\"long\""
        },
        {
         "metadata": "{}",
         "name": "trip_distance",
         "type": "\"double\""
        },
        {
         "metadata": "{}",
         "name": "RatecodeID",
         "type": "\"long\""
        },
        {
         "metadata": "{}",
         "name": "store_and_fwd_flag",
         "type": "\"string\""
        },
        {
         "metadata": "{}",
         "name": "PULocationID",
         "type": "\"long\""
        },
        {
         "metadata": "{}",
         "name": "DOLocationID",
         "type": "\"long\""
        },
        {
         "metadata": "{}",
         "name": "payment_type",
         "type": "\"long\""
        },
        {
         "metadata": "{}",
         "name": "fare_amount",
         "type": "\"double\""
        },
        {
         "metadata": "{}",
         "name": "extra",
         "type": "\"double\""
        },
        {
         "metadata": "{}",
         "name": "mta_tax",
         "type": "\"double\""
        },
        {
         "metadata": "{}",
         "name": "tip_amount",
         "type": "\"double\""
        },
        {
         "metadata": "{}",
         "name": "tolls_amount",
         "type": "\"double\""
        },
        {
         "metadata": "{}",
         "name": "improvement_surcharge",
         "type": "\"double\""
        },
        {
         "metadata": "{}",
         "name": "total_amount",
         "type": "\"double\""
        },
        {
         "metadata": "{}",
         "name": "congestion_surcharge",
         "type": "\"integer\""
        },
        {
         "metadata": "{}",
         "name": "airport_fee",
         "type": "\"integer\""
        }
       ],
       "type": "table"
      }
     },
     "output_type": "display_data"
    },
    {
     "output_type": "stream",
     "name": "stdout",
     "output_type": "stream",
     "text": [
      "root\n |-- VendorID: long (nullable = true)\n |-- tpep_pickup_datetime: timestamp_ntz (nullable = true)\n |-- tpep_dropoff_datetime: timestamp_ntz (nullable = true)\n |-- passenger_count: long (nullable = true)\n |-- trip_distance: double (nullable = true)\n |-- RatecodeID: long (nullable = true)\n |-- store_and_fwd_flag: string (nullable = true)\n |-- PULocationID: long (nullable = true)\n |-- DOLocationID: long (nullable = true)\n |-- payment_type: long (nullable = true)\n |-- fare_amount: double (nullable = true)\n |-- extra: double (nullable = true)\n |-- mta_tax: double (nullable = true)\n |-- tip_amount: double (nullable = true)\n |-- tolls_amount: double (nullable = true)\n |-- improvement_surcharge: double (nullable = true)\n |-- total_amount: double (nullable = true)\n |-- congestion_surcharge: integer (nullable = true)\n |-- airport_fee: integer (nullable = true)\n\n"
     ]
    }
   ],
   "source": [
    "# List of Parquet file URLs (example for 3 months of 2024)\n",
    "parquet_file_urls = [\n",
    "    'https://d37ci6vzurychx.cloudfront.net/trip-data/yellow_tripdata_2012-01.parquet',\n",
    "    'https://d37ci6vzurychx.cloudfront.net/trip-data/yellow_tripdata_2012-02.parquet',\n",
    "    'https://d37ci6vzurychx.cloudfront.net/trip-data/yellow_tripdata_2012-03.parquet',\n",
    "    'https://d37ci6vzurychx.cloudfront.net/trip-data/yellow_tripdata_2012-04.parquet',\n",
    "    'https://d37ci6vzurychx.cloudfront.net/trip-data/yellow_tripdata_2012-05.parquet',\n",
    "    'https://d37ci6vzurychx.cloudfront.net/trip-data/yellow_tripdata_2012-06.parquet',\n",
    "    'https://d37ci6vzurychx.cloudfront.net/trip-data/yellow_tripdata_2012-07.parquet',\n",
    "    'https://d37ci6vzurychx.cloudfront.net/trip-data/yellow_tripdata_2012-08.parquet',\n",
    "    'https://d37ci6vzurychx.cloudfront.net/trip-data/yellow_tripdata_2012-09.parquet',\n",
    "    'https://d37ci6vzurychx.cloudfront.net/trip-data/yellow_tripdata_2012-10.parquet',\n",
    "    'https://d37ci6vzurychx.cloudfront.net/trip-data/yellow_tripdata_2012-11.parquet',\n",
    "    'https://d37ci6vzurychx.cloudfront.net/trip-data/yellow_tripdata_2012-12.parquet'\n",
    "]\n",
    "# Define the base path in DBFS where files will be stored\n",
    "dbfs_base_path = \"/dbfs/mnt/myfolder/\"\n",
    "\n",
    "# Loop through the URLs and download each file to DBFS\n",
    "for url in parquet_file_urls:\n",
    "    # Extract the file name from the URL\n",
    "    file_name = url.split('https://d37ci6vzurychx.cloudfront.net/trip-data/')[-1]\n",
    "    file_path = dbfs_base_path + file_name\n",
    "    \n",
    "    # Copy the file from URL to DBFS\n",
    "    dbutils.fs.cp(url, file_path)\n",
    "    print(f\"Copied {file_name} to {file_path}\")\n",
    "# List the files in the DBFS directory\n",
    "display(dbutils.fs.ls(dbfs_base_path))\n",
    "# Load all Parquet files from the DBFS directory into a single DataFrame\n",
    "df_from_local = spark.read.parquet(dbfs_base_path)\n",
    "\n",
    "# Show a few rows to confirm the data is loaded\n",
    "display(df_from_local.limit(10))\n",
    "# Check schema if needed\n",
    "df_from_local.printSchema()\n",
    "\n"
   ]
  },
  {
   "cell_type": "code",
   "execution_count": 0,
   "metadata": {
    "application/vnd.databricks.v1+cell": {
     "cellMetadata": {
      "byteLimit": 2048000,
      "rowLimit": 10000
     },
     "inputWidgets": {},
     "nuid": "0b99d34a-64b6-4b7b-b618-35db69ad24b2",
     "showTitle": false,
     "title": ""
    }
   },
   "outputs": [
    {
     "output_type": "stream",
     "name": "stdout",
     "output_type": "stream",
     "text": [
      "root\n |-- VendorID: long (nullable = true)\n |-- tpep_pickup_datetime: timestamp_ntz (nullable = true)\n |-- tpep_dropoff_datetime: timestamp_ntz (nullable = true)\n |-- passenger_count: long (nullable = true)\n |-- trip_distance: double (nullable = true)\n |-- RatecodeID: long (nullable = true)\n |-- store_and_fwd_flag: string (nullable = true)\n |-- PULocationID: long (nullable = true)\n |-- DOLocationID: long (nullable = true)\n |-- payment_type: long (nullable = true)\n |-- fare_amount: double (nullable = true)\n |-- extra: double (nullable = true)\n |-- mta_tax: double (nullable = true)\n |-- tip_amount: double (nullable = true)\n |-- tolls_amount: double (nullable = true)\n |-- improvement_surcharge: double (nullable = true)\n |-- total_amount: double (nullable = true)\n |-- congestion_surcharge: integer (nullable = true)\n |-- airport_fee: integer (nullable = true)\n\n+--------+--------------------+---------------------+---------------+-------------+----------+------------------+------------+------------+------------+-----------+-----+-------+----------+------------+---------------------+------------+--------------------+-----------+\n|VendorID|tpep_pickup_datetime|tpep_dropoff_datetime|passenger_count|trip_distance|RatecodeID|store_and_fwd_flag|PULocationID|DOLocationID|payment_type|fare_amount|extra|mta_tax|tip_amount|tolls_amount|improvement_surcharge|total_amount|congestion_surcharge|airport_fee|\n+--------+--------------------+---------------------+---------------+-------------+----------+------------------+------------+------------+------------+-----------+-----+-------+----------+------------+---------------------+------------+--------------------+-----------+\n|       1| 2012-01-01 00:07:56|  2012-01-01 00:12:09|              1|          0.9|         1|                 N|         158|         231|           2|        4.9|  0.5|    0.5|       0.0|         0.0|                  0.0|         5.9|                NULL|       NULL|\n|       1| 2012-01-01 00:18:49|  2012-01-01 00:30:01|              1|          2.3|         1|                 N|         231|         164|           2|        8.5|  0.5|    0.5|       0.0|         0.0|                  0.0|         9.5|                NULL|       NULL|\n|       1| 2012-01-01 00:31:38|  2012-01-01 00:46:05|              1|          2.2|         1|                 N|         164|         148|           2|        9.3|  0.5|    0.5|       0.0|         0.0|                  0.0|        10.3|                NULL|       NULL|\n|       1| 2012-01-01 00:47:35|  2012-01-01 00:55:57|              4|          0.9|         1|                 N|         148|         107|           2|        5.3|  0.5|    0.5|       0.0|         0.0|                  0.0|         6.3|                NULL|       NULL|\n|       1| 2012-01-01 00:57:08|  2012-01-01 01:02:42|              3|          0.7|         1|                 N|         107|         107|           2|        4.5|  0.5|    0.5|       0.0|         0.0|                  0.0|         5.5|                NULL|       NULL|\n+--------+--------------------+---------------------+---------------+-------------+----------+------------------+------------+------------+------------+-----------+-----+-------+----------+------------+---------------------+------------+--------------------+-----------+\nonly showing top 5 rows\n\n"
     ]
    }
   ],
   "source": [
    "df_from_local.printSchema()\n",
    "\n",
    "# Show first few records to understand the data structure\n",
    "df_from_local.show(5)"
   ]
  },
  {
   "cell_type": "code",
   "execution_count": 0,
   "metadata": {
    "application/vnd.databricks.v1+cell": {
     "cellMetadata": {
      "byteLimit": 2048000,
      "rowLimit": 10000
     },
     "inputWidgets": {},
     "nuid": "f2039772-e03a-4e89-aaa0-f8074bb12844",
     "showTitle": false,
     "title": ""
    }
   },
   "outputs": [
    {
     "output_type": "stream",
     "name": "stdout",
     "output_type": "stream",
     "text": [
      "+-------------+--------------------+------------------+\n|trip_distance|       fuel_consumed|     co2_emissions|\n+-------------+--------------------+------------------+\n|          4.0| 0.18181818181818182|1.6163636363636364|\n|          3.9| 0.17727272727272728|1.5759545454545456|\n|          0.9| 0.04090909090909091|0.3636818181818182|\n|          1.0|0.045454545454545456|0.4040909090909091|\n|          8.0| 0.36363636363636365| 3.232727272727273|\n+-------------+--------------------+------------------+\nonly showing top 5 rows\n\n"
     ]
    }
   ],
   "source": [
    "# Define emissions factor and fuel efficiency\n",
    "emissions_factor = 8.89  # kg of CO2 per gallon\n",
    "mpg = 22  # miles per gallon\n",
    "\n",
    "# Calculate fuel consumed and CO2 emissions\n",
    "df_from_local = df_from_local.withColumn(\"fuel_consumed\", df_from_local[\"trip_distance\"] / mpg)\n",
    "df_from_local = df_from_local.withColumn(\"co2_emissions\", df_from_local[\"fuel_consumed\"] * emissions_factor)\n",
    "\n",
    "# Show the updated DataFrame with CO2 emissions\n",
    "df_from_local.select(\"trip_distance\", \"fuel_consumed\", \"co2_emissions\").show(5)"
   ]
  },
  {
   "cell_type": "code",
   "execution_count": 0,
   "metadata": {
    "application/vnd.databricks.v1+cell": {
     "cellMetadata": {
      "byteLimit": 2048000,
      "rowLimit": 10000
     },
     "inputWidgets": {},
     "nuid": "b4ba1d7a-6d16-4d77-b20f-1c5d9e7fce36",
     "showTitle": false,
     "title": ""
    }
   },
   "outputs": [
    {
     "output_type": "stream",
     "name": "stdout",
     "output_type": "stream",
     "text": [
      "root\n |-- VendorID: long (nullable = true)\n |-- tpep_pickup_datetime: timestamp_ntz (nullable = true)\n |-- tpep_dropoff_datetime: timestamp_ntz (nullable = true)\n |-- passenger_count: long (nullable = true)\n |-- trip_distance: double (nullable = true)\n |-- RatecodeID: long (nullable = true)\n |-- store_and_fwd_flag: string (nullable = true)\n |-- PULocationID: long (nullable = true)\n |-- DOLocationID: long (nullable = true)\n |-- payment_type: long (nullable = true)\n |-- fare_amount: double (nullable = true)\n |-- extra: double (nullable = true)\n |-- mta_tax: double (nullable = true)\n |-- tip_amount: double (nullable = true)\n |-- tolls_amount: double (nullable = true)\n |-- improvement_surcharge: double (nullable = true)\n |-- total_amount: double (nullable = true)\n |-- congestion_surcharge: integer (nullable = true)\n |-- airport_fee: integer (nullable = true)\n |-- fuel_consumed: double (nullable = true)\n |-- co2_emissions: double (nullable = true)\n\n"
     ]
    }
   ],
   "source": [
    "df_from_local.printSchema()"
   ]
  },
  {
   "cell_type": "code",
   "execution_count": 0,
   "metadata": {
    "application/vnd.databricks.v1+cell": {
     "cellMetadata": {
      "byteLimit": 2048000,
      "rowLimit": 10000
     },
     "inputWidgets": {},
     "nuid": "1e48cabc-b0ca-4772-a7c1-9ce8adc57414",
     "showTitle": false,
     "title": ""
    }
   },
   "outputs": [
    {
     "output_type": "stream",
     "name": "stdout",
     "output_type": "stream",
     "text": [
      "+--------------------+-----------+\n|tpep_pickup_datetime|pickup_date|\n+--------------------+-----------+\n| 2012-03-01 00:00:07| 2012-03-01|\n| 2012-03-01 00:37:18| 2012-03-01|\n| 2012-03-01 00:12:02| 2012-03-01|\n| 2012-03-01 00:17:37| 2012-03-01|\n| 2012-03-01 00:28:42| 2012-03-01|\n+--------------------+-----------+\nonly showing top 5 rows\n\n"
     ]
    }
   ],
   "source": [
    "from pyspark.sql.functions import to_date\n",
    "\n",
    "# Extract the date from the pickup datetime\n",
    "df_from_local = df_from_local.withColumn(\"pickup_date\", to_date(df_from_local[\"tpep_pickup_datetime\"]))\n",
    "\n",
    "# Show the updated dataframe\n",
    "df_from_local.select(\"tpep_pickup_datetime\", \"pickup_date\").show(5)\n"
   ]
  },
  {
   "cell_type": "code",
   "execution_count": 0,
   "metadata": {
    "application/vnd.databricks.v1+cell": {
     "cellMetadata": {
      "byteLimit": 2048000,
      "rowLimit": 10000
     },
     "inputWidgets": {},
     "nuid": "6e99087d-dcfc-4cfa-8f46-013ee83c6515",
     "showTitle": false,
     "title": ""
    }
   },
   "outputs": [
    {
     "output_type": "stream",
     "name": "stdout",
     "output_type": "stream",
     "text": [
      "+-----------+------------------+\n|pickup_date|sum(co2_emissions)|\n+-----------+------------------+\n| 2012-01-01|253758.42290923555|\n| 2012-01-02|385108.41132297466|\n| 2012-01-03| 439864.3943594848|\n| 2012-01-04| 449317.8263958517|\n| 2012-01-05|462395.73567769286|\n+-----------+------------------+\nonly showing top 5 rows\n\n+-----------+------------------+\n|pickup_date|sum(co2_emissions)|\n+-----------+------------------+\n| 2012-01-01| 221983.0171364775|\n| 2012-01-02| 319999.4777638147|\n| 2012-01-03| 373857.0414412282|\n| 2012-01-04|383504.92202305334|\n| 2012-01-05| 395202.0890367017|\n+-----------+------------------+\nonly showing top 5 rows\n\n+-----------+------------------+\n|pickup_date|sum(co2_emissions)|\n+-----------+------------------+\n| 2012-01-01|31775.405772726273|\n| 2012-01-02| 65108.93355909254|\n| 2012-01-03| 66007.35291818247|\n| 2012-01-04| 65812.90437272833|\n| 2012-01-05| 67193.64664091077|\n+-----------+------------------+\nonly showing top 5 rows\n\n"
     ]
    }
   ],
   "source": [
    "# Total emissions per day\n",
    "daily_emissions = df_from_local.groupBy(\"pickup_date\").sum(\"co2_emissions\").orderBy(\"pickup_date\")\n",
    "\n",
    "# Emissions for 1-2 passengers\n",
    "group_1_2 = df_from_local.filter(df_from_local[\"passenger_count\"] <= 2).groupBy(\"pickup_date\").sum(\"co2_emissions\").orderBy(\"pickup_date\")\n",
    "\n",
    "# Emissions for 3+ passengers\n",
    "group_3_plus = df_from_local.filter(df_from_local[\"passenger_count\"] >= 3).groupBy(\"pickup_date\").sum(\"co2_emissions\").orderBy(\"pickup_date\")\n",
    "\n",
    "# Display the results\n",
    "daily_emissions.show(5)\n",
    "group_1_2.show(5)\n",
    "group_3_plus.show(5)"
   ]
  },
  {
   "cell_type": "code",
   "execution_count": 0,
   "metadata": {
    "application/vnd.databricks.v1+cell": {
     "cellMetadata": {
      "byteLimit": 2048000,
      "rowLimit": 10000
     },
     "inputWidgets": {},
     "nuid": "317e8b04-e02f-4d64-93e3-b3799a87b9c8",
     "showTitle": false,
     "title": ""
    }
   },
   "outputs": [
    {
     "output_type": "stream",
     "name": "stdout",
     "output_type": "stream",
     "text": [
      "Requirement already satisfied: matplotlib in /databricks/python3/lib/python3.11/site-packages (3.7.2)\nRequirement already satisfied: contourpy>=1.0.1 in /databricks/python3/lib/python3.11/site-packages (from matplotlib) (1.0.5)\nRequirement already satisfied: cycler>=0.10 in /databricks/python3/lib/python3.11/site-packages (from matplotlib) (0.11.0)\nRequirement already satisfied: fonttools>=4.22.0 in /databricks/python3/lib/python3.11/site-packages (from matplotlib) (4.25.0)\nRequirement already satisfied: kiwisolver>=1.0.1 in /databricks/python3/lib/python3.11/site-packages (from matplotlib) (1.4.4)\nRequirement already satisfied: numpy>=1.20 in /databricks/python3/lib/python3.11/site-packages (from matplotlib) (1.23.5)\nRequirement already satisfied: packaging>=20.0 in /databricks/python3/lib/python3.11/site-packages (from matplotlib) (23.2)\nRequirement already satisfied: pillow>=6.2.0 in /databricks/python3/lib/python3.11/site-packages (from matplotlib) (9.4.0)\nRequirement already satisfied: pyparsing<3.1,>=2.3.1 in /databricks/python3/lib/python3.11/site-packages (from matplotlib) (3.0.9)\nRequirement already satisfied: python-dateutil>=2.7 in /databricks/python3/lib/python3.11/site-packages (from matplotlib) (2.8.2)\nRequirement already satisfied: six>=1.5 in /usr/lib/python3/dist-packages (from python-dateutil>=2.7->matplotlib) (1.16.0)\n\u001B[43mNote: you may need to restart the kernel using %restart_python or dbutils.library.restartPython() to use updated packages.\u001B[0m\n"
     ]
    }
   ],
   "source": [
    "%pip install matplotlib"
   ]
  },
  {
   "cell_type": "code",
   "execution_count": 0,
   "metadata": {
    "application/vnd.databricks.v1+cell": {
     "cellMetadata": {
      "byteLimit": 2048000,
      "rowLimit": 10000
     },
     "inputWidgets": {},
     "nuid": "fa7efe31-9ded-48b5-8b3e-a36bbf9a449c",
     "showTitle": false,
     "title": ""
    }
   },
   "outputs": [],
   "source": [
    "import matplotlib.pyplot as plt\n",
    "\n",
    "# Collect data for plotting\n",
    "\n",
    "# Collect dates and emissions for all passengers\n",
    "dates = [row['pickup_date'] for row in daily_emissions.collect()]\n",
    "total_emissions = [row['sum(co2_emissions)'] for row in daily_emissions.collect()]\n",
    "\n",
    "# Collect emissions for 1-2 passengers\n",
    "emissions_1_2 = [row['sum(co2_emissions)'] for row in group_1_2.collect()]\n",
    "\n",
    "# Collect emissions for 3+ passengers\n",
    "emissions_3_plus = [row['sum(co2_emissions)'] for row in group_3_plus.collect()]"
   ]
  },
  {
   "cell_type": "code",
   "execution_count": 0,
   "metadata": {
    "application/vnd.databricks.v1+cell": {
     "cellMetadata": {
      "byteLimit": 2048000,
      "rowLimit": 10000
     },
     "inputWidgets": {},
     "nuid": "01a42ea5-aa98-4821-8c84-76bc05a9a26a",
     "showTitle": false,
     "title": ""
    }
   },
   "outputs": [
    {
     "output_type": "display_data",
     "data": {
      "image/png": "[encoded data removed]",
      "text/plain": [
       "<Figure size 1000x600 with 1 Axes>"
      ]
     },
     "metadata": {},
     "output_type": "display_data"
    }
   ],
   "source": [
    "# Ensure dates and emissions arrays have the same length\n",
    "min_length = min(len(dates), len(emissions_1_2), len(emissions_3_plus))\n",
    "dates = dates[:min_length]\n",
    "emissions_1_2 = emissions_1_2[:min_length]\n",
    "emissions_3_plus = emissions_3_plus[:min_length]\n",
    "\n",
    "# Plot the total emissions over time\n",
    "plt.figure(figsize=(10, 6))\n",
    "\n",
    "# Plot emissions for 1-2 passengers\n",
    "plt.plot(dates, emissions_1_2, label='1-2 Passengers', color='blue')\n",
    "\n",
    "# Plot emissions for 3+ passengers\n",
    "plt.plot(dates, emissions_3_plus, label='3+ Passengers', linestyle='--', color='green')\n",
    "\n",
    "# Adding labels and title\n",
    "plt.xlabel('Date')\n",
    "plt.ylabel('CO2 Emissions (kg)')\n",
    "plt.title('CO2 Emissions Comparison by Passenger Group')\n",
    "\n",
    "# Adding a legend\n",
    "plt.legend()\n",
    "\n",
    "# Rotate the x-axis labels for better readability\n",
    "plt.xticks(rotation=45)\n",
    "\n",
    "# Show the plot\n",
    "plt.show()"
   ]
  }
 ],
 "metadata": {
  "application/vnd.databricks.v1+notebook": {
   "dashboards": [],
   "environmentMetadata": null,
   "language": "python",
   "notebookMetadata": {
    "pythonIndentUnit": 4
   },
   "notebookName": "Bus5001Assignment2",
   "widgets": {}
  }
 },
 "nbformat": 4,
 "nbformat_minor": 0
}
